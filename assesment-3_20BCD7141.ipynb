{
  "nbformat": 4,
  "nbformat_minor": 0,
  "metadata": {
    "colab": {
      "provenance": []
    },
    "kernelspec": {
      "name": "python3",
      "display_name": "Python 3"
    },
    "language_info": {
      "name": "python"
    }
  },
  "cells": [
    {
      "cell_type": "code",
      "source": [
        "import os\n",
        "import random\n",
        "import numpy as np\n",
        "import cv2\n",
        "from sklearn.preprocessing import LabelEncoder\n",
        "from tensorflow.keras.utils import to_categorical\n",
        "from tensorflow.keras.models import Sequential\n",
        "from tensorflow.keras.layers import Conv2D, MaxPooling2D, Flatten, Dense, Dropout\n",
        "import matplotlib.pyplot as plt"
      ],
      "metadata": {
        "id": "ODgAyFqevmCv"
      },
      "execution_count": null,
      "outputs": []
    },
    {
      "cell_type": "code",
      "source": [
        "data_dir = '/content/drive/MyDrive/train_data'\n",
        "test = '/content/drive/MyDrive/test_data'\n",
        "# Load the dataset\n",
        "images = []\n",
        "labels = []"
      ],
      "metadata": {
        "id": "Sk7tNe2-vmMb"
      },
      "execution_count": null,
      "outputs": []
    },
    {
      "cell_type": "code",
      "source": [
        "for species_folder in os.listdir(data_dir):\n",
        "    species_path = os.path.join(data_dir, species_folder)\n",
        "    \n",
        "    # Iterate over each image file in the species folder\n",
        "    for filename in os.listdir(species_path):\n",
        "        img = cv2.imread(os.path.join(species_path, filename))\n",
        "        if img is not None:\n",
        "            img = cv2.resize(img, (128, 128))\n",
        "            img = img / 255.0\n",
        "            images.append(img)\n",
        "            labels.append(species_folder)\n",
        "            \n",
        "images = np.array(images)\n",
        "labels = np.array(labels)"
      ],
      "metadata": {
        "id": "xQ1tkaZ9vmZu"
      },
      "execution_count": null,
      "outputs": []
    },
    {
      "cell_type": "code",
      "source": [
        "label_encoder = LabelEncoder()\n",
        "labels_encoded = label_encoder.fit_transform(labels)\n",
        "labels_encoded = to_categorical(labels_encoded)"
      ],
      "metadata": {
        "id": "P3tUHyuWvmmd"
      },
      "execution_count": null,
      "outputs": []
    },
    {
      "cell_type": "code",
      "source": [
        "model = Sequential()\n",
        "model.add(Conv2D(32, (3, 3), activation='relu', input_shape=(128, 128, 3)))\n",
        "model.add(MaxPooling2D((2, 2)))\n",
        "model.add(Conv2D(64, (3, 3), activation='relu'))\n",
        "model.add(MaxPooling2D((2, 2)))\n",
        "model.add(Conv2D(128, (3, 3), activation='relu'))\n",
        "model.add(MaxPooling2D((2, 2)))\n",
        "model.add(Flatten())\n",
        "model.add(Dense(128, activation='relu'))\n",
        "model.add(Dropout(0.5))\n",
        "model.add(Dense(len(label_encoder.classes_), activation='softmax'))\n",
        "\n",
        "model.compile(optimizer='adam', loss='categorical_crossentropy', metrics=['accuracy'])"
      ],
      "metadata": {
        "id": "UOHRPTp2vm2v"
      },
      "execution_count": null,
      "outputs": []
    },
    {
      "cell_type": "code",
      "source": [
        "model.fit(images, labels_encoded, epochs=25, batch_size=32)"
      ],
      "metadata": {
        "colab": {
          "base_uri": "https://localhost:8080/"
        },
        "id": "CvlulOXwvnD5",
        "outputId": "18937b2f-e968-4edc-97e4-bd845e64fd23"
      },
      "execution_count": null,
      "outputs": [
        {
          "output_type": "stream",
          "name": "stdout",
          "text": [
            "Epoch 1/25\n",
            "5/5 [==============================] - 6s 871ms/step - loss: 2.9030 - accuracy: 0.0533\n",
            "Epoch 2/25\n",
            "5/5 [==============================] - 6s 1s/step - loss: 2.7372 - accuracy: 0.1000\n",
            "Epoch 3/25\n",
            "5/5 [==============================] - 4s 837ms/step - loss: 2.6854 - accuracy: 0.1600\n",
            "Epoch 4/25\n",
            "5/5 [==============================] - 4s 881ms/step - loss: 2.5605 - accuracy: 0.1867\n",
            "Epoch 5/25\n",
            "5/5 [==============================] - 6s 1s/step - loss: 2.4792 - accuracy: 0.2000\n",
            "Epoch 6/25\n",
            "5/5 [==============================] - 4s 849ms/step - loss: 2.3562 - accuracy: 0.2400\n",
            "Epoch 7/25\n",
            "5/5 [==============================] - 5s 984ms/step - loss: 2.4075 - accuracy: 0.1733\n",
            "Epoch 8/25\n",
            "5/5 [==============================] - 6s 1s/step - loss: 2.3027 - accuracy: 0.2533\n",
            "Epoch 9/25\n",
            "5/5 [==============================] - 4s 838ms/step - loss: 2.1957 - accuracy: 0.3467\n",
            "Epoch 10/25\n",
            "5/5 [==============================] - 5s 1s/step - loss: 2.0767 - accuracy: 0.3400\n",
            "Epoch 11/25\n",
            "5/5 [==============================] - 6s 988ms/step - loss: 2.0173 - accuracy: 0.3867\n",
            "Epoch 12/25\n",
            "5/5 [==============================] - 5s 908ms/step - loss: 1.8605 - accuracy: 0.3933\n",
            "Epoch 13/25\n",
            "5/5 [==============================] - 6s 1s/step - loss: 1.7605 - accuracy: 0.4467\n",
            "Epoch 14/25\n",
            "5/5 [==============================] - 5s 855ms/step - loss: 1.6594 - accuracy: 0.4867\n",
            "Epoch 15/25\n",
            "5/5 [==============================] - 4s 851ms/step - loss: 1.4908 - accuracy: 0.5200\n",
            "Epoch 16/25\n",
            "5/5 [==============================] - 8s 2s/step - loss: 1.5212 - accuracy: 0.5533\n",
            "Epoch 17/25\n",
            "5/5 [==============================] - 4s 840ms/step - loss: 1.2287 - accuracy: 0.6133\n",
            "Epoch 18/25\n",
            "5/5 [==============================] - 4s 840ms/step - loss: 1.2642 - accuracy: 0.5667\n",
            "Epoch 19/25\n",
            "5/5 [==============================] - 6s 1s/step - loss: 1.0649 - accuracy: 0.6800\n",
            "Epoch 20/25\n",
            "5/5 [==============================] - 7s 1s/step - loss: 1.0015 - accuracy: 0.7067\n",
            "Epoch 21/25\n",
            "5/5 [==============================] - 9s 2s/step - loss: 0.9679 - accuracy: 0.7133\n",
            "Epoch 22/25\n",
            "5/5 [==============================] - 4s 844ms/step - loss: 1.0070 - accuracy: 0.7000\n",
            "Epoch 23/25\n",
            "5/5 [==============================] - 4s 846ms/step - loss: 0.8770 - accuracy: 0.7400\n",
            "Epoch 24/25\n",
            "5/5 [==============================] - 6s 1s/step - loss: 0.8392 - accuracy: 0.7667\n",
            "Epoch 25/25\n",
            "5/5 [==============================] - 4s 843ms/step - loss: 0.7648 - accuracy: 0.7467\n"
          ]
        },
        {
          "output_type": "execute_result",
          "data": {
            "text/plain": [
              "<keras.callbacks.History at 0x7f28603a2f80>"
            ]
          },
          "metadata": {},
          "execution_count": 7
        }
      ]
    },
    {
      "cell_type": "code",
      "source": [
        "random_species_folder = random.choice(os.listdir(test))\n",
        "random_species_path = os.path.join(test, random_species_folder)\n",
        "random_image_filename = random.choice(os.listdir(random_species_path))\n",
        "random_image_path = os.path.join(random_species_path, random_image_filename)"
      ],
      "metadata": {
        "id": "mguD2ijvvnRt"
      },
      "execution_count": null,
      "outputs": []
    },
    {
      "cell_type": "code",
      "source": [
        "random_image = cv2.imread(random_image_path)\n",
        "random_image = cv2.resize(random_image, (128, 128))\n",
        "random_image = random_image / 255.0"
      ],
      "metadata": {
        "id": "QHNv1yuUvnfs"
      },
      "execution_count": null,
      "outputs": []
    },
    {
      "cell_type": "code",
      "source": [
        "prediction = model.predict(np.array([random_image]))\n",
        "predicted_label = label_encoder.inverse_transform([np.argmax(prediction)])\n",
        "print(\"Predicted bird species:\", predicted_label)\n",
        "\n",
        "from PIL import Image\n",
        "\n",
        "img_pil = Image.fromarray(np.uint8(random_image * 255))\n",
        "img_pil.show()"
      ],
      "metadata": {
        "colab": {
          "base_uri": "https://localhost:8080/",
          "height": 180
        },
        "id": "gyhAsUHqvnuB",
        "outputId": "5e9ac1a2-c578-4407-d1b7-ef6abf1775bd"
      },
      "execution_count": null,
      "outputs": [
        {
          "output_type": "stream",
          "name": "stdout",
          "text": [
            "1/1 [==============================] - 0s 91ms/step\n",
            "Predicted bird species: ['bonegl']\n"
          ]
        },
        {
          "output_type": "display_data",
          "data": {
            "text/plain": [
              "<PIL.Image.Image image mode=RGB size=128x128 at 0x7F28646BD390>"
            ],
            "image/png": "[encoded data removed]"
          },
          "metadata": {}
        }
      ]
    }
  ]
}